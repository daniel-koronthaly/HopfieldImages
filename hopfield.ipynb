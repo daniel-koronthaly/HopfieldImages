{
 "cells": [
  {
   "cell_type": "markdown",
   "metadata": {},
   "source": [
    "This notebook is an implementation of a continuous Hopfield network for the purpose of remembering images.\n",
    "\n",
    "It uses the continuous updating rule of $\\tau_i \\frac{dV_i}{dt} = -V_i + g_\\beta (u_i) = -V_i + g_\\beta (\\sum_j W_{ij}V_j)$"
   ]
  },
  {
   "cell_type": "markdown",
   "metadata": {},
   "source": [
    "Cheat sheet:\n",
    "\n",
    "- $V$ is a vector of all the neurons. In our case, each neuron represents a pixel where the value is between $[-1, 1]$\n",
    "- $g_\\beta$ is a continuous non-linear function. In our case, we use tanh, which outputs values between $[-1, 1]$\n",
    "- $W$ is the symmetric weight matrix representing the connections between neurons. $W_{ii} = 0$ and $W_{ij} = W_{ji}$. It is initialized by setting $W_{ij} = V_iV_j$ where $V$ is initialized to the state you want the network to \"memorize\". If you want the network to remember multiple of these states, simply set $W$ to the sum of all the $W$ matrices, one computed for each state.\n"
   ]
  },
  {
   "cell_type": "code",
   "execution_count": 1,
   "metadata": {},
   "outputs": [],
   "source": [
    "import numpy as np"
   ]
  },
  {
   "cell_type": "markdown",
   "metadata": {},
   "source": [
    "# Grayscale"
   ]
  },
  {
   "cell_type": "code",
   "execution_count": 2,
   "metadata": {},
   "outputs": [
    {
     "ename": "FileNotFoundError",
     "evalue": "[Errno 2] No such file or directory: 'data_batch_1'",
     "output_type": "error",
     "traceback": [
      "\u001b[1;31m---------------------------------------------------------------------------\u001b[0m",
      "\u001b[1;31mFileNotFoundError\u001b[0m                         Traceback (most recent call last)",
      "Cell \u001b[1;32mIn[2], line 11\u001b[0m\n\u001b[0;32m      9\u001b[0m num_images \u001b[38;5;241m=\u001b[39m \u001b[38;5;241m3\u001b[39m\n\u001b[0;32m     10\u001b[0m data_file_path \u001b[38;5;241m=\u001b[39m \u001b[38;5;124m\"\u001b[39m\u001b[38;5;124mdata_batch_1\u001b[39m\u001b[38;5;124m\"\u001b[39m\n\u001b[1;32m---> 11\u001b[0m data \u001b[38;5;241m=\u001b[39m \u001b[43munpickle\u001b[49m\u001b[43m(\u001b[49m\u001b[43mdata_file_path\u001b[49m\u001b[43m)\u001b[49m[\u001b[38;5;124mb\u001b[39m\u001b[38;5;124m'\u001b[39m\u001b[38;5;124mdata\u001b[39m\u001b[38;5;124m'\u001b[39m]\n\u001b[0;32m     12\u001b[0m images \u001b[38;5;241m=\u001b[39m []\n\u001b[0;32m     14\u001b[0m color_enabled \u001b[38;5;241m=\u001b[39m \u001b[38;5;28;01mTrue\u001b[39;00m\n",
      "Cell \u001b[1;32mIn[2], line 5\u001b[0m, in \u001b[0;36munpickle\u001b[1;34m(file)\u001b[0m\n\u001b[0;32m      3\u001b[0m \u001b[38;5;28;01mdef\u001b[39;00m \u001b[38;5;21munpickle\u001b[39m(file):\n\u001b[0;32m      4\u001b[0m     \u001b[38;5;28;01mimport\u001b[39;00m \u001b[38;5;21;01mpickle\u001b[39;00m\n\u001b[1;32m----> 5\u001b[0m     \u001b[38;5;28;01mwith\u001b[39;00m \u001b[38;5;28;43mopen\u001b[39;49m\u001b[43m(\u001b[49m\u001b[43mfile\u001b[49m\u001b[43m,\u001b[49m\u001b[43m \u001b[49m\u001b[38;5;124;43m'\u001b[39;49m\u001b[38;5;124;43mrb\u001b[39;49m\u001b[38;5;124;43m'\u001b[39;49m\u001b[43m)\u001b[49m \u001b[38;5;28;01mas\u001b[39;00m fo:\n\u001b[0;32m      6\u001b[0m         \u001b[38;5;28mdict\u001b[39m \u001b[38;5;241m=\u001b[39m pickle\u001b[38;5;241m.\u001b[39mload(fo, encoding\u001b[38;5;241m=\u001b[39m\u001b[38;5;124m'\u001b[39m\u001b[38;5;124mbytes\u001b[39m\u001b[38;5;124m'\u001b[39m)\n\u001b[0;32m      7\u001b[0m     \u001b[38;5;28;01mreturn\u001b[39;00m \u001b[38;5;28mdict\u001b[39m\n",
      "File \u001b[1;32m~\\AppData\\Local\\Packages\\PythonSoftwareFoundation.Python.3.11_qbz5n2kfra8p0\\LocalCache\\local-packages\\Python311\\site-packages\\IPython\\core\\interactiveshell.py:324\u001b[0m, in \u001b[0;36m_modified_open\u001b[1;34m(file, *args, **kwargs)\u001b[0m\n\u001b[0;32m    317\u001b[0m \u001b[38;5;28;01mif\u001b[39;00m file \u001b[38;5;129;01min\u001b[39;00m {\u001b[38;5;241m0\u001b[39m, \u001b[38;5;241m1\u001b[39m, \u001b[38;5;241m2\u001b[39m}:\n\u001b[0;32m    318\u001b[0m     \u001b[38;5;28;01mraise\u001b[39;00m \u001b[38;5;167;01mValueError\u001b[39;00m(\n\u001b[0;32m    319\u001b[0m         \u001b[38;5;124mf\u001b[39m\u001b[38;5;124m\"\u001b[39m\u001b[38;5;124mIPython won\u001b[39m\u001b[38;5;124m'\u001b[39m\u001b[38;5;124mt let you open fd=\u001b[39m\u001b[38;5;132;01m{\u001b[39;00mfile\u001b[38;5;132;01m}\u001b[39;00m\u001b[38;5;124m by default \u001b[39m\u001b[38;5;124m\"\u001b[39m\n\u001b[0;32m    320\u001b[0m         \u001b[38;5;124m\"\u001b[39m\u001b[38;5;124mas it is likely to crash IPython. If you know what you are doing, \u001b[39m\u001b[38;5;124m\"\u001b[39m\n\u001b[0;32m    321\u001b[0m         \u001b[38;5;124m\"\u001b[39m\u001b[38;5;124myou can use builtins\u001b[39m\u001b[38;5;124m'\u001b[39m\u001b[38;5;124m open.\u001b[39m\u001b[38;5;124m\"\u001b[39m\n\u001b[0;32m    322\u001b[0m     )\n\u001b[1;32m--> 324\u001b[0m \u001b[38;5;28;01mreturn\u001b[39;00m \u001b[43mio_open\u001b[49m\u001b[43m(\u001b[49m\u001b[43mfile\u001b[49m\u001b[43m,\u001b[49m\u001b[43m \u001b[49m\u001b[38;5;241;43m*\u001b[39;49m\u001b[43margs\u001b[49m\u001b[43m,\u001b[49m\u001b[43m \u001b[49m\u001b[38;5;241;43m*\u001b[39;49m\u001b[38;5;241;43m*\u001b[39;49m\u001b[43mkwargs\u001b[49m\u001b[43m)\u001b[49m\n",
      "\u001b[1;31mFileNotFoundError\u001b[0m: [Errno 2] No such file or directory: 'data_batch_1'"
     ]
    }
   ],
   "source": [
    "import matplotlib.pyplot as plt\n",
    "\n",
    "def unpickle(file):\n",
    "    import pickle\n",
    "    with open(file, 'rb') as fo:\n",
    "        dict = pickle.load(fo, encoding='bytes')\n",
    "    return dict\n",
    "\n",
    "num_images = 3\n",
    "data_file_path = \"data_batch_1\"\n",
    "data = unpickle(data_file_path)[b'data']\n",
    "images = []\n",
    "\n",
    "color_enabled = True\n",
    "num_neurons = 3072\n",
    "\n",
    "X = np.empty((num_neurons, 0))\n",
    "\n",
    "for i in range(num_images):\n",
    "    grayscale_img = np.mean(data[i].reshape((3,1024)), axis=0)\n",
    "    X = np.hstack((X, grayscale_img.reshape(-1, 1)))\n",
    "    grayscale_img = grayscale_img.reshape((32,32))\n",
    "    plt.imshow(grayscale_img, cmap=\"gray\", interpolation='none')\n",
    "    plt.axis('off')\n",
    "    plt.show()\n",
    "    grayscale_img = (grayscale_img - 127.5) / 127.5 # normalizing between [-1, 1]\n",
    "    images.append(grayscale_img)\n",
    "\n",
    "color_enabled = False\n",
    "num_neurons = 1024\n",
    "W = np.zeros((num_neurons, num_neurons))\n",
    "\n",
    "# computes W_{ij} = V_i * V_j for all i and j. (Saves all images in weight matrix)\n",
    "\n",
    "for image in images:\n",
    "    image_normalized = image / np.linalg.norm(image)\n",
    "    W += np.outer(image_normalized, image_normalized) \n",
    "\n",
    "W = W / num_images\n",
    "\n",
    "np.fill_diagonal(W, 0)"
   ]
  },
  {
   "cell_type": "markdown",
   "metadata": {},
   "source": [
    "# Color"
   ]
  },
  {
   "cell_type": "code",
   "execution_count": 2,
   "metadata": {},
   "outputs": [
    {
     "data": {
      "image/png": "[encoded data removed]",
      "text/plain": [
       "<Figure size 640x480 with 1 Axes>"
      ]
     },
     "metadata": {},
     "output_type": "display_data"
    },
    {
     "data": {
      "image/png": "[encoded data removed]",
      "text/plain": [
       "<Figure size 640x480 with 1 Axes>"
      ]
     },
     "metadata": {},
     "output_type": "display_data"
    },
    {
     "data": {
      "image/png": "[encoded data removed]",
      "text/plain": [
       "<Figure size 640x480 with 1 Axes>"
      ]
     },
     "metadata": {},
     "output_type": "display_data"
    }
   ],
   "source": [
    "import matplotlib.pyplot as plt\n",
    "\n",
    "def unpickle(file):\n",
    "    import pickle\n",
    "    with open(file, 'rb') as fo:\n",
    "        dict = pickle.load(fo, encoding='bytes')\n",
    "    return dict\n",
    "\n",
    "num_images = 3\n",
    "data_file_path = \"data_batch_1\"\n",
    "data = unpickle(data_file_path)[b'data']\n",
    "images = []\n",
    "\n",
    "color_enabled = True\n",
    "num_neurons = 3072\n",
    "\n",
    "X = np.empty((num_neurons, 0))\n",
    "\n",
    "for i in range(num_images):\n",
    "    color_img = data[i].reshape((3,32,32)).transpose(1,2,0)    \n",
    "    plt.imshow(color_img, interpolation='none')\n",
    "    plt.axis('off')\n",
    "    plt.show()\n",
    "    X = np.hstack((X, color_img.flatten().reshape(-1, 1)))\n",
    "    color_img = (color_img - 127.5) / 127.5 # normalizing between [-1, 1]\n",
    "    images.append(color_img)\n",
    "\n",
    "\n",
    "W = np.zeros((num_neurons, num_neurons))\n",
    "\n",
    "# computes W_{ij} = V_i * V_j for all i and j. (Saves all images in weight matrix)\n",
    "\n",
    "for image in images:\n",
    "    image_normalized = image / np.linalg.norm(image)\n",
    "    W += np.outer(image_normalized, image_normalized) \n",
    "\n",
    "W = W / num_images\n",
    "\n",
    "np.fill_diagonal(W, 0)"
   ]
  },
  {
   "cell_type": "code",
   "execution_count": 4,
   "metadata": {},
   "outputs": [],
   "source": [
    "from scipy.integrate import solve_ivp\n",
    "\n",
    "def cosine_similarity(x, y):\n",
    "    return np.dot(x, y) / (np.linalg.norm(x) * np.linalg.norm(y))\n",
    "\n",
    "# constants\n",
    "def g(u, beta = 7):\n",
    "    return np.tanh(u * beta)\n",
    "\n",
    "def sigmoid(u, scaling_factor=2):\n",
    "    return 1 / (1 + np.exp(-u / scaling_factor))\n",
    "\n",
    "def energy(v):\n",
    "    return -0.5 * g(v).T @ W @ g(v) + np.sum(np.log(np.cosh(v)))\n",
    "\n",
    "tol = 1e-4 # integrate until converging to this tolerance\n",
    "dt = 0.001\n",
    "\n",
    "def hopfield_diff_eq(t, v):\n",
    "    dvdt = (-v + W @ g(v))\n",
    "    return dvdt"
   ]
  },
  {
   "cell_type": "code",
   "execution_count": 5,
   "metadata": {},
   "outputs": [],
   "source": [
    "# If you want random noise, choose the top V. If you want to start it at a specific image, choose the bottom V.\n",
    "\n",
    "V = np.random.uniform(-1.0, 1.0, size=(num_neurons))\n",
    "# V = images[2].flatten()\n",
    "# choice = np.random.choice(len(images))\n",
    "# print(choice)\n",
    "# V = images[choice].flatten()\n",
    "\n",
    "time = 0 # for integration, this is the starting time at first\n",
    "times = [time]\n",
    "states = [V]\n",
    "\n",
    "current_state = V\n",
    "prev_state = V + 2 * tol # This makes the first iteration of the loop work\n",
    "\n",
    "# while np.abs(current_state - prev_state).max() > tol:\n",
    "#     prev_state = current_state\n",
    "#     result = solve_ivp(hopfield_diff_eq, (time, time + dt), current_state, method='RK45', t_eval=[time+dt])\n",
    "    \n",
    "#     current_state = result.y[:, -1]\n",
    "#     time += dt\n",
    "#     times.append(time)\n",
    "#     # states.append(current_state)\n",
    "#     # current_state = prev_state + hopfield_diff_eq(0, prev_state) * dt\n",
    "#     states.append(current_state)\n",
    "\n",
    "\n",
    "result = solve_ivp(hopfield_diff_eq, (0, 100), current_state, method='RK45', t_eval=[100])\n",
    "states.append(result.y[:, -1])\n",
    "\n",
    "times = np.array(times)\n",
    "states = np.array(states)\n",
    "\n"
   ]
  },
  {
   "cell_type": "code",
   "execution_count": 6,
   "metadata": {},
   "outputs": [
    {
     "data": {
      "image/png": "[encoded data removed]",
      "text/plain": [
       "<Figure size 640x480 with 1 Axes>"
      ]
     },
     "metadata": {},
     "output_type": "display_data"
    }
   ],
   "source": [
    "if color_enabled:\n",
    "    final_img = states[-1].reshape((32,32,3))\n",
    "else:\n",
    "    final_img = states[-1].reshape((32,32))\n",
    "\n",
    "final_img = (final_img+1)/2\n",
    "\n",
    "if color_enabled:\n",
    "    plt.imshow(final_img, interpolation='none')\n",
    "else:\n",
    "    plt.imshow(final_img, cmap=\"gray\", interpolation='none')\n",
    "plt.axis('off')\n",
    "plt.show()"
   ]
  },
  {
   "cell_type": "code",
   "execution_count": 26,
   "metadata": {},
   "outputs": [],
   "source": [
    "def invert(image):\n",
    "    return 1-image"
   ]
  },
  {
   "cell_type": "code",
   "execution_count": 263,
   "metadata": {},
   "outputs": [
    {
     "data": {
      "image/png": "[encoded data removed]",
      "text/plain": [
       "<Figure size 640x480 with 1 Axes>"
      ]
     },
     "metadata": {},
     "output_type": "display_data"
    }
   ],
   "source": [
    "negative = invert(final_img)\n",
    "\n",
    "if color_enabled:\n",
    "    plt.imshow(negative, interpolation='none')\n",
    "else:\n",
    "    plt.imshow(negative, cmap=\"gray\", interpolation='none')\n",
    "plt.axis('off')\n",
    "plt.show()"
   ]
  },
  {
   "cell_type": "code",
   "execution_count": 264,
   "metadata": {},
   "outputs": [
    {
     "name": "stdout",
     "output_type": "stream",
     "text": [
      "-0.494532144632739\n",
      "0.018819212847012108\n",
      "0.08106848660224104\n",
      "-0.8310007822988416\n",
      "-0.37610003165430167\n",
      "-0.5892251502245595\n",
      "-0.1879099234215986\n",
      "-0.127535758369217\n",
      "0.41921511804214767\n",
      "-0.7118951554379563\n"
     ]
    }
   ],
   "source": [
    "for image in images:\n",
    "    print(cosine_similarity(final_img.flatten(), image.flatten()))"
   ]
  },
  {
   "cell_type": "code",
   "execution_count": 216,
   "metadata": {},
   "outputs": [
    {
     "data": {
      "image/png": "[encoded data removed]",
      "text/plain": [
       "<Figure size 640x480 with 1 Axes>"
      ]
     },
     "metadata": {},
     "output_type": "display_data"
    }
   ],
   "source": [
    "energies = [energy(state) for state in states]\n",
    "plt.plot(times, energies)\n",
    "plt.xlabel(\"Time\")\n",
    "plt.ylabel(\"Energy\")\n",
    "plt.show()"
   ]
  },
  {
   "cell_type": "markdown",
   "metadata": {},
   "source": [
    "# Hopfield Networks is all you need"
   ]
  },
  {
   "cell_type": "code",
   "execution_count": 501,
   "metadata": {},
   "outputs": [],
   "source": [
    "def softmax(x):\n",
    "    x = x - np.max(x)\n",
    "    exp_x = np.exp(x)\n",
    "    return exp_x / np.sum(exp_x)\n",
    "\n",
    "def modern_hopfield_step(X,xi,beta=1):\n",
    "    xinew = X@softmax(beta*X.T@xi)\n",
    "    return xinew\n",
    "\n",
    "def modern_hopfield_step_normalization(X, xi, beta=0.0001):\n",
    "    # Normalize X columns and xi for similarity calculation\n",
    "    X_norm = X / np.linalg.norm(X, axis=1, keepdims=True)\n",
    "    xi_norm = xi / np.linalg.norm(xi)\n",
    "    \n",
    "    # Compute new state\n",
    "    similarities = X_norm.T @ xi_norm  # Cosine similarities\n",
    "    xinew = X @ softmax(beta * similarities)\n",
    "    return xinew\n"
   ]
  },
  {
   "cell_type": "code",
   "execution_count": 508,
   "metadata": {},
   "outputs": [
    {
     "name": "stdout",
     "output_type": "stream",
     "text": [
      "3\n"
     ]
    }
   ],
   "source": [
    "# V = np.random.uniform(0.1, 255.0, size=(num_neurons))\n",
    "V = X[:, 0]\n",
    "# choice = np.random.choice(len(images))\n",
    "# print(choice)\n",
    "# V = X[:, choice]\n",
    "\n",
    "current_state = V + 0.01 * np.random.randn(*V.shape)\n",
    "prev_state = V + 2 * tol\n",
    "\n",
    "states = [current_state]\n",
    "\n",
    "iter_count = 0\n",
    "\n",
    "while np.abs(current_state - prev_state).max() > tol:\n",
    "    iter_count += 1 \n",
    "    prev_state = current_state\n",
    "    current_state = modern_hopfield_step_normalization(X, prev_state)\n",
    "    states.append(current_state)\n",
    "\n",
    "print(iter_count)\n"
   ]
  },
  {
   "cell_type": "code",
   "execution_count": 509,
   "metadata": {},
   "outputs": [
    {
     "name": "stderr",
     "output_type": "stream",
     "text": [
      "Clipping input data to the valid range for imshow with RGB data ([0..1] for floats or [0..255] for integers).\n"
     ]
    },
    {
     "name": "stdout",
     "output_type": "stream",
     "text": [
      "-0.015497990707980736\n"
     ]
    },
    {
     "data": {
      "image/png": "[encoded data removed]",
      "text/plain": [
       "<Figure size 640x480 with 1 Axes>"
      ]
     },
     "metadata": {},
     "output_type": "display_data"
    },
    {
     "name": "stdout",
     "output_type": "stream",
     "text": [
      "35.66446880847531\n"
     ]
    },
    {
     "data": {
      "image/png": "[encoded data removed]",
      "text/plain": [
       "<Figure size 640x480 with 1 Axes>"
      ]
     },
     "metadata": {},
     "output_type": "display_data"
    },
    {
     "name": "stdout",
     "output_type": "stream",
     "text": [
      "35.66952645991076\n"
     ]
    },
    {
     "data": {
      "image/png": "[encoded data removed]",
      "text/plain": [
       "<Figure size 640x480 with 1 Axes>"
      ]
     },
     "metadata": {},
     "output_type": "display_data"
    },
    {
     "name": "stdout",
     "output_type": "stream",
     "text": [
      "35.66952823295229\n"
     ]
    },
    {
     "data": {
      "image/png": "[encoded data removed]",
      "text/plain": [
       "<Figure size 640x480 with 1 Axes>"
      ]
     },
     "metadata": {},
     "output_type": "display_data"
    }
   ],
   "source": [
    "if color_enabled:\n",
    "    for img in states:\n",
    "        print(np.min(img))\n",
    "        final_img = img.reshape((32,32,3)) / 255.0\n",
    "        plt.imshow(final_img, interpolation='none')\n",
    "        plt.axis('off')\n",
    "        plt.show()\n",
    "else:\n",
    "    for img in states:\n",
    "        final_img = img.reshape((32,32)) / 255.0\n",
    "        plt.imshow(final_img, cmap=\"gray\", interpolation='none')\n",
    "        plt.axis('off')\n",
    "        plt.show()"
   ]
  },
  {
   "cell_type": "code",
   "execution_count": 407,
   "metadata": {},
   "outputs": [
    {
     "data": {
      "text/plain": [
       "0.0"
      ]
     },
     "execution_count": 407,
     "metadata": {},
     "output_type": "execute_result"
    }
   ],
   "source": [
    "np.min(X)"
   ]
  },
  {
   "cell_type": "code",
   "execution_count": 306,
   "metadata": {},
   "outputs": [
    {
     "data": {
      "text/plain": [
       "array([255., 255., 255., ...,  80.,  86.,  84.])"
      ]
     },
     "execution_count": 306,
     "metadata": {},
     "output_type": "execute_result"
    }
   ],
   "source": [
    "current_state"
   ]
  },
  {
   "cell_type": "code",
   "execution_count": 345,
   "metadata": {},
   "outputs": [
    {
     "data": {
      "text/plain": [
       "(3072,)"
      ]
     },
     "execution_count": 345,
     "metadata": {},
     "output_type": "execute_result"
    }
   ],
   "source": [
    "V = X[:, 0]\n",
    "V.shape"
   ]
  },
  {
   "cell_type": "code",
   "execution_count": 436,
   "metadata": {},
   "outputs": [
    {
     "name": "stdout",
     "output_type": "stream",
     "text": [
      "6416.603462892186\n",
      "7964.367457620222\n",
      "8711.389843188055\n",
      "4884.421255379188\n",
      "6644.910006915067\n",
      "6039.182808956854\n",
      "7257.420133904334\n",
      "7504.499450329782\n",
      "9085.38689324786\n",
      "5034.667417019718\n"
     ]
    }
   ],
   "source": [
    "for i in range(X.shape[1]):\n",
    "    print(np.linalg.norm(X[:,i]))"
   ]
  },
  {
   "cell_type": "code",
   "execution_count": 438,
   "metadata": {},
   "outputs": [
    {
     "data": {
      "text/plain": [
       "<matplotlib.image.AxesImage at 0x21693b7f990>"
      ]
     },
     "execution_count": 438,
     "metadata": {},
     "output_type": "execute_result"
    },
    {
     "data": {
      "image/png": "[encoded data removed]",
      "text/plain": [
       "<Figure size 640x480 with 1 Axes>"
      ]
     },
     "metadata": {},
     "output_type": "display_data"
    }
   ],
   "source": [
    "plt.imshow(X[:, 0].reshape((32,32,3)) / 255.0, interpolation='none')"
   ]
  },
  {
   "cell_type": "markdown",
   "metadata": {},
   "source": [
    "# Discrete hopfield networks"
   ]
  },
  {
   "cell_type": "code",
   "execution_count": 470,
   "metadata": {},
   "outputs": [
    {
     "data": {
      "image/png": "[encoded data removed]",
      "text/plain": [
       "<Figure size 640x480 with 1 Axes>"
      ]
     },
     "metadata": {},
     "output_type": "display_data"
    },
    {
     "data": {
      "image/png": "[encoded data removed]",
      "text/plain": [
       "<Figure size 640x480 with 1 Axes>"
      ]
     },
     "metadata": {},
     "output_type": "display_data"
    },
    {
     "data": {
      "image/png": "[encoded data removed]",
      "text/plain": [
       "<Figure size 640x480 with 1 Axes>"
      ]
     },
     "metadata": {},
     "output_type": "display_data"
    },
    {
     "data": {
      "image/png": "[encoded data removed]",
      "text/plain": [
       "<Figure size 640x480 with 1 Axes>"
      ]
     },
     "metadata": {},
     "output_type": "display_data"
    },
    {
     "data": {
      "image/png": "[encoded data removed]",
      "text/plain": [
       "<Figure size 640x480 with 1 Axes>"
      ]
     },
     "metadata": {},
     "output_type": "display_data"
    }
   ],
   "source": [
    "import matplotlib.pyplot as plt\n",
    "\n",
    "def show_image(img):\n",
    "    final_img = img.reshape((32,32))\n",
    "    plt.imshow(final_img, cmap=\"gray\", interpolation='none')\n",
    "    plt.axis('off')\n",
    "    plt.show()\n",
    "\n",
    "def generate_uncorrelated_images(num_images, size):\n",
    "    images = []\n",
    "\n",
    "    while len(images) < num_images:\n",
    "        # Create a random matrix of -1s and 1s\n",
    "        image = np.random.choice([-1, 1], size=size)\n",
    "\n",
    "        # Check correlation with previously generated images\n",
    "        is_uncorrelated = True\n",
    "        for existing_image in images:\n",
    "            correlation = np.sum(image * existing_image) / np.prod(size)\n",
    "            if abs(correlation) > 0.01:  # Adjust threshold as needed\n",
    "                is_uncorrelated = False\n",
    "                break\n",
    "\n",
    "        if is_uncorrelated:\n",
    "            images.append(image)\n",
    "\n",
    "    return images\n",
    "\n",
    "\n",
    "#Create 5 random patterns\n",
    "np.random.seed(13)\n",
    "num_images = 5\n",
    "pattern_size = (32,32)\n",
    "\n",
    "images = generate_uncorrelated_images(num_images, pattern_size)\n",
    "\n",
    "# square = np.full(pattern_size, -1.0)\n",
    "# square[10:22, 10:22] = 1.0\n",
    "# images.append(square)\n",
    "\n",
    "# diagonal = np.full(pattern_size, -1.0)\n",
    "# for i in range(2, 32, 8):\n",
    "#     diagonal[i:i+4, i:i+4] = 1.0\n",
    "# images.append(diagonal)\n",
    "\n",
    "# square_plus = np.full(pattern_size, -1.0)\n",
    "# square_plus[10:22, 10:22] = 1.0\n",
    "# square_plus[0:6, 13:19] = 1.0\n",
    "# square_plus[26:32, 13:19] = 1.0\n",
    "# square_plus[13:19, 26:32] = 1.0\n",
    "# square_plus[13:19, 0:6] = 1.0\n",
    "# images.append(square_plus)\n",
    "\n",
    "# big_x = np.full(pattern_size, 1.0)\n",
    "# for i in range(2, 32, 4):\n",
    "#     big_x[i:i+4, i:i+4] = -1.0\n",
    "#     big_x[i:i+4, (28-i):(32-i)] = -1.0\n",
    "# images.append(big_x)\n",
    "\n",
    "# stripes = np.full(pattern_size, -1.0)\n",
    "# for i in range(2, 32, 4):\n",
    "#     stripes[i:i+2, :] = 1.0\n",
    "# images.append(stripes)\n",
    "\n",
    "# concentric = np.full(pattern_size, 1.0)\n",
    "# start = 0\n",
    "# stop = 31\n",
    "# width = 2\n",
    "# while start <= 16:\n",
    "#     concentric[start:stop, start:start+width] = -1.0\n",
    "#     concentric[start:stop, stop-width:stop] = -1.0\n",
    "#     concentric[start:start+width, start:stop] = -1.0\n",
    "#     concentric[stop-width:stop, start:stop] = -1.0\n",
    "#     start += width * 2\n",
    "#     stop -= width * 2 \n",
    "# images.append(concentric)\n",
    "\n",
    "for image in images:\n",
    "    show_image(image)\n",
    "color_enabled = False\n",
    "num_neurons = 1024\n",
    "\n",
    "flattened_images = np.reshape(images, (num_images, num_neurons))\n",
    "W = flattened_images.T @ flattened_images\n",
    "# W = np.zeros((num_neurons, num_neurons))\n",
    "\n",
    "# # computes W_{ij} = V_i * V_j for all i and j. (Saves all images in weight matrix)\n",
    "\n",
    "# for image in images:\n",
    "#     image_normalized = image / np.linalg.norm(image)\n",
    "#     W += np.outer(image_normalized, image_normalized) \n",
    "\n",
    "# W = W / num_images\n",
    "\n",
    "np.fill_diagonal(W, 0.0)"
   ]
  },
  {
   "cell_type": "code",
   "execution_count": 483,
   "metadata": {},
   "outputs": [
    {
     "name": "stdout",
     "output_type": "stream",
     "text": [
      "[[  0. 516. 511. 508. 510.]\n",
      " [516.   0. 515. 508. 508.]\n",
      " [511. 515.   0. 517. 515.]\n",
      " [508. 508. 517.   0. 512.]\n",
      " [510. 508. 515. 512.   0.]]\n"
     ]
    }
   ],
   "source": [
    "def discrete_update(num_neurons, W, states):\n",
    "    i = np.random.randint(0, num_neurons)\n",
    "    new_state = states[-1].copy()\n",
    "    new_state[i] = np.sign(W[i,:]@new_state)\n",
    "    return new_state\n",
    "\n",
    "def discrete_energy(W, state):\n",
    "    return -0.5 * state @ W @ state\n",
    "\n",
    "def hamming_distances(flattened_images):\n",
    "    num_images = len(flattened_images)\n",
    "    distances = np.empty((num_images, num_images,))\n",
    "    for i in range(num_images):\n",
    "        for j in range(num_images):\n",
    "            distances[i,j] = len(flattened_images[i]) - np.count_nonzero(flattened_images[i] == flattened_images[j])\n",
    "            distances[j,i] = len(flattened_images[i]) - np.count_nonzero(flattened_images[i] == flattened_images[j])\n",
    "    print(distances)\n",
    "\n",
    "def is_mutant(flattened_images, flattened_output):\n",
    "    closest_ham = len(flattened_output)\n",
    "    closest_index = -1\n",
    "    for i in range(len(flattened_images)):\n",
    "        ham = len(flattened_images[i]) - np.count_nonzero(flattened_images[i] == flattened_output)\n",
    "        if ham == 0:\n",
    "            print(f\"Match for image {i}\")\n",
    "            return False\n",
    "        elif ham < closest_ham:\n",
    "            closest_ham = ham\n",
    "            closest_index = i\n",
    "    print(f\"Mutant, closest was image {closest_index} with hamming distance of {closest_ham}\")\n",
    "    return True\n",
    "            \n",
    "\n",
    "hamming_distances(flattened_images)"
   ]
  },
  {
   "cell_type": "code",
   "execution_count": 504,
   "metadata": {},
   "outputs": [
    {
     "name": "stdout",
     "output_type": "stream",
     "text": [
      "(1024,)\n",
      "Mutant, closest was image 0 with hamming distance of 251\n"
     ]
    },
    {
     "data": {
      "image/png": "[encoded data removed]",
      "text/plain": [
       "<Figure size 640x480 with 1 Axes>"
      ]
     },
     "metadata": {},
     "output_type": "display_data"
    }
   ],
   "source": [
    "\n",
    "# If you want random noise, choose the top V. If you want to start it at a specific image, choose the bottom V.\n",
    "V = np.random.choice([-1,1],size=pattern_size).flatten()\n",
    "\n",
    "# V = np.full(pattern_size, 0.0).flatten()\n",
    "\n",
    "# V = images[2].flatten()\n",
    "# choice = np.random.choice(len(images))\n",
    "# print(choice)\n",
    "# V = images[choice].flatten()\n",
    "\n",
    "tol = 0.000001\n",
    "prev_state = V + 2 * tol # This makes the first iteration of the loop work\n",
    "states = [prev_state, V]\n",
    "\n",
    "print(V.shape)\n",
    "for i in range(10000):\n",
    "    states.append(discrete_update(num_neurons, W, states))\n",
    "    # if i % 50 == 0:\n",
    "        # show_image(image)\n",
    "    \n",
    "# show_image(V)\n",
    "is_mutant(flattened_images, states[-1])\n",
    "show_image(states[-1])\n",
    "\n",
    "# energies = [discrete_energy(W, state) for state in states]\n",
    "# plt.plot(energies)\n",
    "# plt.xlabel(\"Time\")\n",
    "# plt.ylabel(\"Energy\")\n",
    "# plt.show()"
   ]
  }
 ],
 "metadata": {
  "kernelspec": {
   "display_name": "Python 3",
   "language": "python",
   "name": "python3"
  },
  "language_info": {
   "codemirror_mode": {
    "name": "ipython",
    "version": 3
   },
   "file_extension": ".py",
   "mimetype": "text/x-python",
   "name": "python",
   "nbconvert_exporter": "python",
   "pygments_lexer": "ipython3",
   "version": "3.11.9"
  }
 },
 "nbformat": 4,
 "nbformat_minor": 2
}
