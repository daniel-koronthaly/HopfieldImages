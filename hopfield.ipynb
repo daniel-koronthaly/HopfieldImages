{
 "cells": [
  {
   "cell_type": "markdown",
   "metadata": {},
   "source": [
    "This notebook is an implementation of a continuous Hopfield network for the purpose of remembering images.\n",
    "\n",
    "It uses the continuous updating rule of $\\tau_i \\frac{dV_i}{dt} = -V_i + g_\\beta (u_i) = -V_i + g_\\beta (\\sum_j W_{ij}V_j)$"
   ]
  },
  {
   "cell_type": "markdown",
   "metadata": {},
   "source": [
    "Cheat sheet:\n",
    "\n",
    "- $V$ is a vector of all the neurons. In our case, each neuron represents a pixel where the value is between $[-1, 1]$\n",
    "- $g_\\beta$ is a continuous non-linear function. In our case, we use tanh, which outputs values between $[-1, 1]$\n",
    "- $W$ is the symmetric weight matrix representing the connections between neurons. $W_{ii} = 0$ and $W_{ij} = W_{ji}$. It is initialized by setting $W_{ij} = V_iV_j$ where $V$ is initialized to the state you want the network to \"memorize\". If you want the network to remember multiple of these states, simply set $W$ to the sum of all the $W$ matrices, one computed for each state.\n"
   ]
  },
  {
   "cell_type": "code",
   "execution_count": 2,
   "metadata": {},
   "outputs": [],
   "source": [
    "import numpy as np"
   ]
  },
  {
   "cell_type": "code",
   "execution_count": null,
   "metadata": {},
   "outputs": [],
   "source": [
    "num_images_to_generate = 3\n",
    "image_width = 5\n",
    "image_height = 3\n",
    "\n",
    "num_neurons = image_width * image_height\n",
    "images = []\n",
    "# This is just an example to get it working, but \"images\" will be an array of matrices, where each matrix is a different image\n",
    "for i in range(num_images_to_generate):\n",
    "    images.append(np.random.uniform(-1.0, 1.0, size=(image_width, image_height)))\n",
    "\n",
    "W = np.zeros((num_neurons, num_neurons))\n",
    "\n",
    "# computes W_{ij} = V_i * V_j for all i and j. (Saves all images in weight matrix)\n",
    "for image in images:\n",
    "    W = W + np.outer(image, image)\n"
   ]
  },
  {
   "cell_type": "code",
   "execution_count": null,
   "metadata": {},
   "outputs": [],
   "source": [
    "from scipy.integrate import solve_ivp\n",
    "\n",
    "# constants\n",
    "def g(u, b):\n",
    "    return np.tanh(u * b)\n",
    "\n",
    "tol = 1e-6 # integrate until converging to this tolerance\n",
    "tau = 1.0\n",
    "dt = 0.1\n",
    "beta = 1.0\n",
    "\n",
    "def hopfield_diff_eq(t, v):\n",
    "    u = np.dot(W, v) # check if this is equivalent to sum(W_ij * V_j) for all j\n",
    "    dvdt = (-v + g(u, beta))/tau\n",
    "    return dvdt\n",
    "\n",
    "V = np.random.uniform(-1.0, 1.0, size=(num_neurons))\n",
    "\n",
    "\n",
    "time = 0 # for integration, this is the starting time at first\n",
    "times = [time]\n",
    "states = [V]\n",
    "\n",
    "current_state = V\n",
    "prev_state = V + 2 * tol # This makes the first iteration of the loop work\n",
    "\n",
    "while np.abs(current_state - prev_state).max() > tol:\n",
    "    prev_state = current_state\n",
    "    result = solve_ivp(hopfield_diff_eq, (time, time + dt), current_state, method='RK45', t_eval=[time+dt])\n",
    "    time += dt\n",
    "    current_state = result.y[:, -1]\n",
    "\n",
    "    times.append(time)\n",
    "    states.append(current_state)\n",
    "\n",
    "times = np.array(times)\n",
    "states = np.array(states)\n"
   ]
  }
 ],
 "metadata": {
  "kernelspec": {
   "display_name": "Python 3",
   "language": "python",
   "name": "python3"
  },
  "language_info": {
   "codemirror_mode": {
    "name": "ipython",
    "version": 3
   },
   "file_extension": ".py",
   "mimetype": "text/x-python",
   "name": "python",
   "nbconvert_exporter": "python",
   "pygments_lexer": "ipython3",
   "version": "3.11.2"
  }
 },
 "nbformat": 4,
 "nbformat_minor": 2
}
